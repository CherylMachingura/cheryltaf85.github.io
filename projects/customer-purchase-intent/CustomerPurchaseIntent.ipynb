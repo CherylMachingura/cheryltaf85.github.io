{
 "cells": [
  {
   "cell_type": "code",
   "execution_count": 6,
   "metadata": {},
   "outputs": [
    {
     "name": "stdout",
     "output_type": "stream",
     "text": [
      "Data Structure:\n",
      "   Age  Frequency_of_Purchase  Brand_Loyalty  Product_Rating  \\\n",
      "0   22                      4              5               5   \n",
      "1   49                     11              3               1   \n",
      "2   24                      2              5               5   \n",
      "3   29                      6              3               1   \n",
      "4   33                      6              3               4   \n",
      "\n",
      "   Time_Spent_on_Product_Research(hours)  Return_Rate  Customer_Satisfaction  \\\n",
      "0                                    2.0            1                      7   \n",
      "1                                    2.0            1                      5   \n",
      "2                                    0.3            1                      7   \n",
      "3                                    1.0            0                      1   \n",
      "4                                    0.0            2                     10   \n",
      "\n",
      "   Discount_Used  Customer_Loyalty_Program_Member  Time_to_Decision  ...  \\\n",
      "0           True                            False                 2  ...   \n",
      "1           True                            False                 6  ...   \n",
      "2           True                             True                 3  ...   \n",
      "3           True                             True                10  ...   \n",
      "4          False                            False                 4  ...   \n",
      "\n",
      "   Time_of_Purchase_9/5/2024  Time_of_Purchase_9/6/2024  \\\n",
      "0                          0                          0   \n",
      "1                          0                          0   \n",
      "2                          0                          0   \n",
      "3                          0                          0   \n",
      "4                          0                          0   \n",
      "\n",
      "   Time_of_Purchase_9/7/2024  Time_of_Purchase_9/8/2024  \\\n",
      "0                          0                          0   \n",
      "1                          0                          0   \n",
      "2                          0                          0   \n",
      "3                          0                          0   \n",
      "4                          0                          0   \n",
      "\n",
      "   Time_of_Purchase_9/9/2024  Purchase_Intent_Need-based  \\\n",
      "0                          0                           1   \n",
      "1                          0                           0   \n",
      "2                          0                           0   \n",
      "3                          0                           1   \n",
      "4                          0                           0   \n",
      "\n",
      "   Purchase_Intent_Planned  Purchase_Intent_Wants-based  \\\n",
      "0                        0                            0   \n",
      "1                        0                            1   \n",
      "2                        0                            0   \n",
      "3                        0                            0   \n",
      "4                        0                            1   \n",
      "\n",
      "   Shipping_Preference_No Preference  Shipping_Preference_Standard  \n",
      "0                                  1                             0  \n",
      "1                                  0                             1  \n",
      "2                                  1                             0  \n",
      "3                                  0                             0  \n",
      "4                                  1                             0  \n",
      "\n",
      "[5 rows x 3366 columns]\n",
      "Dataset with Predictions:\n",
      "   Predictions  Purchase_Intent_Need-based\n",
      "0        False                           1\n",
      "1        False                           0\n",
      "2         True                           0\n",
      "3         True                           1\n",
      "4        False                           0\n"
     ]
    }
   ],
   "source": [
    "import joblib\n",
    "import pandas as pd\n",
    "\n",
    "# Load the pre-trained model\n",
    "model = joblib.load('/Users/cheryl/Downloads/purchase_intent_rf_model.pkl')\n",
    "\n",
    "# Load the pre-processed dataset used for prediction (the one you processed and saved earlier)\n",
    "data_encoded = pd.read_csv('/Users/cheryl/Downloads/Ecommerce_Consumer_Behavior_Analysis_Encoded.csv')\n",
    "\n",
    "# Display the dataset structure to check for any discrepancies\n",
    "print(\"Data Structure:\")\n",
    "print(data_encoded.head())\n",
    "\n",
    "# Ensure the features used for predictions match the model training\n",
    "# Drop the target column ('Purchase_Intent_Need-based' in this case) and any other columns not used during training\n",
    "# You need to match the features used during training. Below is an example.\n",
    "X = data_encoded[['Age', 'Frequency_of_Purchase', 'Brand_Loyalty', 'Time_Spent_on_Product_Research(hours)', \n",
    "                  'Discount_Used', 'Customer_Loyalty_Program_Member']]  # Use your exact feature names\n",
    "\n",
    "# Reindex the dataset columns to match the model's feature names exactly\n",
    "X = X.reindex(columns=model.feature_names_in_)\n",
    "\n",
    "# Make predictions using the loaded model\n",
    "predictions = model.predict(X)\n",
    "\n",
    "# Add the predictions to the dataset for better visibility\n",
    "data_encoded['Predictions'] = predictions\n",
    "\n",
    "# Display the dataset with predictions\n",
    "print(\"Dataset with Predictions:\")\n",
    "print(data_encoded[['Predictions', 'Purchase_Intent_Need-based']].head())\n",
    "\n",
    "# Optionally, save the results to a new CSV file for later use\n",
    "data_encoded.to_csv('/Users/cheryl/Downloads/Predicted_Customer_Purchase_Intent.csv', index=False)\n",
    "\n"
   ]
  },
  {
   "cell_type": "code",
   "execution_count": 7,
   "metadata": {},
   "outputs": [
    {
     "name": "stdout",
     "output_type": "stream",
     "text": [
      "Model Accuracy: 54.00%\n"
     ]
    }
   ],
   "source": [
    "accuracy = (data_encoded['Predictions'] == data_encoded['Purchase_Intent_Need-based']).mean()\n",
    "print(f'Model Accuracy: {accuracy * 100:.2f}%')\n",
    "\n"
   ]
  }
 ],
 "metadata": {
  "kernelspec": {
   "display_name": "Python 3",
   "language": "python",
   "name": "python3"
  },
  "language_info": {
   "codemirror_mode": {
    "name": "ipython",
    "version": 3
   },
   "file_extension": ".py",
   "mimetype": "text/x-python",
   "name": "python",
   "nbconvert_exporter": "python",
   "pygments_lexer": "ipython3",
   "version": "3.11.3"
  }
 },
 "nbformat": 4,
 "nbformat_minor": 2
}

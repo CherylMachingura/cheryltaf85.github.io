{
 "cells": [
  {
   "cell_type": "markdown",
   "id": "7f68e0f4",
   "metadata": {},
   "source": [
    "# Bayesian Update Wait Times"
   ]
  },
  {
   "cell_type": "code",
   "execution_count": null,
   "id": "bed930fd",
   "metadata": {},
   "outputs": [],
   "source": [
    "# Bayesian Update on Coffee Shop Wait Times\n",
    "\n",
    "import numpy as np\n",
    "import matplotlib.pyplot as plt\n",
    "from scipy.stats import beta\n",
    "\n",
    "np.random.seed(101)\n",
    "feedback = np.random.choice([0, 1], size=50, p=[0.3, 0.7])  # 1 = long wait\n",
    "\n",
    "cumulative_heads = np.cumsum(feedback)\n",
    "cumulative_tails = np.cumsum(1 - feedback)\n",
    "posterior_params = [(2 + h, 2 + t) for h, t in zip(cumulative_heads, cumulative_tails)]\n",
    "\n",
    "x = np.linspace(0, 1, 100)\n",
    "plt.figure(figsize=(12, 6))\n",
    "for i, idx in enumerate([0, 9, 19, 29, 49]):\n",
    "    a, b = posterior_params[idx]\n",
    "    plt.plot(x, beta.pdf(x, a, b), label=f'{idx+1} customers')\n",
    "\n",
    "plt.title(\"Bayesian Update: Belief About Long Wait Probability\")\n",
    "plt.xlabel(\"Probability of Long Wait\")\n",
    "plt.ylabel(\"Density\")\n",
    "plt.legend(title=\"After # of Responses\")\n",
    "plt.grid(True)\n",
    "plt.tight_layout()\n",
    "plt.show()\n"
   ]
  }
 ],
 "metadata": {},
 "nbformat": 4,
 "nbformat_minor": 5
}
